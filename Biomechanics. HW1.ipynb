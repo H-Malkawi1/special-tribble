{
 "cells": [
  {
   "cell_type": "markdown",
   "metadata": {},
   "source": [
    "Homework 1:\n",
    "Measuring the force acting on the thigh muscles and plotting it at various angles"
   ]
  },
  {
   "cell_type": "code",
   "execution_count": 1,
   "metadata": {},
   "outputs": [],
   "source": [
    "#importing math library\n",
    "import math"
   ]
  },
  {
   "cell_type": "code",
   "execution_count": 2,
   "metadata": {},
   "outputs": [],
   "source": [
    "#mass constants\n",
    "M_load = 12\n",
    "M_foot = 0.69                          #1.5% of my body weight = 1.5% of 46\n",
    "M_leg = 2.3                            #5% of my body weight = 5% of 46"
   ]
  },
  {
   "cell_type": "code",
   "execution_count": 3,
   "metadata": {},
   "outputs": [],
   "source": [
    "#other constants\n",
    "g = 9.81                                              #gravitational acceleration\n",
    "r_knee = 0.035                                        #radius of the knee joint\n",
    "theta = [math.radians(x) for x in range(0,111)]       # range of theta from 0 to 110 in radians\n",
    "Len_leg = 0.41                                        # self-measurment\n",
    "Len_foot = 0.21                                       #self-measurment"
   ]
  },
  {
   "cell_type": "code",
   "execution_count": 4,
   "metadata": {},
   "outputs": [],
   "source": [
    "#equation for the force on the foot\n",
    "Force = []\n",
    "for i in range (len(theta)):\n",
    "    moment_legWeight = M_leg * g * math.cos(theta[i]) * 0.4 * Len_leg\n",
    "    moment_footWeight = M_foot * g * (math.cos(theta[i]) * Len_leg + math.sin(theta[i]) * 0.4 * Len_foot)\n",
    "    moment_loadWeight = M_load * g * (math.cos(theta[i]) * Len_leg + math.sin(theta[i]) * 0.6 * Len_foot)\n",
    "    F_foot = (moment_legWeight + moment_footWeight + moment_loadWeight) / r_knee\n",
    "    Force.append(F_foot)"
   ]
  },
  {
   "cell_type": "code",
   "execution_count": 8,
   "metadata": {},
   "outputs": [
    {
     "data": {
      "image/png": "[encoded data removed]",
      "text/plain": [
       "<Figure size 432x288 with 1 Axes>"
      ]
     },
     "metadata": {
      "needs_background": "light"
     },
     "output_type": "display_data"
    }
   ],
   "source": [
    "# plotting the Force-Theta Graph\n",
    "from matplotlib import pyplot as plt\n",
    "plt.figure()\n",
    "plt.plot(range(0, 111), Force)\n",
    "plt.xlabel('Theta (degree)')\n",
    "plt.ylabel('Force (N)')\n",
    "plt.show()"
   ]
  },
  {
   "cell_type": "code",
   "execution_count": null,
   "metadata": {},
   "outputs": [],
   "source": []
  }
 ],
 "metadata": {
  "kernelspec": {
   "display_name": "Python 3",
   "language": "python",
   "name": "python3"
  },
  "language_info": {
   "codemirror_mode": {
    "name": "ipython",
    "version": 3
   },
   "file_extension": ".py",
   "mimetype": "text/x-python",
   "name": "python",
   "nbconvert_exporter": "python",
   "pygments_lexer": "ipython3",
   "version": "3.7.1"
  }
 },
 "nbformat": 4,
 "nbformat_minor": 2
}
