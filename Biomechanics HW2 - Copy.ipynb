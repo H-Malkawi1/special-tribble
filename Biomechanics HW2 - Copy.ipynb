{
 "cells": [
  {
   "cell_type": "markdown",
   "metadata": {},
   "source": [
    "Homework 2: Finding the best angle of stability of a person climbing a slippery slope "
   ]
  },
  {
   "cell_type": "code",
   "execution_count": 1,
   "metadata": {},
   "outputs": [],
   "source": [
    "#importing math library\n",
    "import math"
   ]
  },
  {
   "cell_type": "code",
   "execution_count": 2,
   "metadata": {},
   "outputs": [],
   "source": [
    "#constants\n",
    "Phi = math.radians(50)                                    #the angle of the inclined slope\n",
    "Weight = 451.26                                           #weight = m * g = 46Kg * 9.81m\\s^2 \n",
    "theta = [math.radians(x) for x in range(1,181)]           #the angle of climbing of the person in reference to the slope\n",
    "Height = 1.61                                             #the height \n",
    "Alpha = 0.65                                              # the friction coeffecient"
   ]
  },
  {
   "cell_type": "code",
   "execution_count": 3,
   "metadata": {
    "scrolled": true
   },
   "outputs": [],
   "source": [
    "#equation for the tension on the rope by using the moment\n",
    "T_force = []\n",
    "for i in range (len(theta)):\n",
    "    moment_weight_comp_y = Weight * math.sin(Phi) * Height * math.sin(theta[i]) * 0.55   # moment of the y component of the Weight\n",
    "    moment_weight_comp_x = Weight * math.cos(Phi) * Height * math.cos(theta[i]) * 0.55   # moment of the x component of the Weight\n",
    "    Tension = (moment_weight_comp_y + moment_weight_comp_x) / (0.8 * math.sin(theta[i]) * Height)  #calculating the tension for a single angle\n",
    "    T_force.append(Tension)          #combing all Tension Values in a list"
   ]
  },
  {
   "cell_type": "code",
   "execution_count": 4,
   "metadata": {},
   "outputs": [],
   "source": [
    "#calculationg the total forces\n",
    "F_parallel = []\n",
    "F_perpendicular = Weight * math.cos(Phi)\n",
    "F_friction = []\n",
    "for i in range (len(theta)):\n",
    "    F_parallel.append(abs(T_force[i] - Weight * math.sin(Phi)))     #creating a list of all the absolute value of the force \n",
    "    F_friction.append(Alpha * F_perpendicular)                      #creating a list of all the values of the force"
   ]
  },
  {
   "cell_type": "markdown",
   "metadata": {},
   "source": [
    "After having calculated all the forces we need to draw a graph to see where the horizontal (parallel) force intersects with the force of Friction.\n",
    "more or less than the Friction force and the person climbing will slip forward or backward respectively"
   ]
  },
  {
   "cell_type": "code",
   "execution_count": 6,
   "metadata": {},
   "outputs": [
    {
     "data": {
      "image/png": "[encoded data removed]",
      "text/plain": [
       "<Figure size 432x288 with 1 Axes>"
      ]
     },
     "metadata": {
      "needs_background": "light"
     },
     "output_type": "display_data"
    }
   ],
   "source": [
    "# plotting the Forces vs Theta Graph\n",
    "from matplotlib import pyplot as plt\n",
    "plt.figure()\n",
    "plt.plot(range(1, 181), F_parallel, label = 'Parallel Force')                        # plotling force versus theta\n",
    "plt.plot(range(1, 181), F_friction, label = 'force of Friction')                     # plotling force versus theta\n",
    "plt.xlabel('Theta (degree)')                                                         # labeling the x-axis\n",
    "plt.ylabel('Force (N)')                                                              # labeling the y-axis\n",
    "plt.ylim(-200, 2500)                                                                 # setting a limit for the y-axis because the values are too large but we dont need them\n",
    "plt.legend()\n",
    "plt.show()"
   ]
  },
  {
   "cell_type": "markdown",
   "metadata": {},
   "source": [
    "could not find a point of interssection"
   ]
  },
  {
   "cell_type": "code",
   "execution_count": null,
   "metadata": {},
   "outputs": [],
   "source": []
  }
 ],
 "metadata": {
  "kernelspec": {
   "display_name": "Python 3",
   "language": "python",
   "name": "python3"
  },
  "language_info": {
   "codemirror_mode": {
    "name": "ipython",
    "version": 3
   },
   "file_extension": ".py",
   "mimetype": "text/x-python",
   "name": "python",
   "nbconvert_exporter": "python",
   "pygments_lexer": "ipython3",
   "version": "3.7.1"
  }
 },
 "nbformat": 4,
 "nbformat_minor": 2
}
