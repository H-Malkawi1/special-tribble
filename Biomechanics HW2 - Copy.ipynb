{
 "cells": [
  {
   "cell_type": "markdown",
   "metadata": {},
   "source": [
    "Homework 2: Finding the best angle of stability of a person climbing a slippery slope "
   ]
  },
  {
   "cell_type": "code",
   "execution_count": 1,
   "metadata": {},
   "outputs": [],
   "source": [
    "#importing math library\n",
    "import math"
   ]
  },
  {
   "cell_type": "code",
   "execution_count": 2,
   "metadata": {},
   "outputs": [],
   "source": [
    "#constants\n",
    "Phi = math.radians(50)                                    #the angle of the inclined slope\n",
    "Weight = 451.26                                           #weight = m * g = 46Kg * 9.81m\\s^2 \n",
    "theta = [math.radians(x) for x in range(1,181)]           #the angle of climbing of the person in reference to the slope\n",
    "Height = 1.61                                             #the height \n",
    "Alpha = 0.3                                              # the friction coeffecient"
   ]
  },
  {
   "cell_type": "code",
   "execution_count": 3,
   "metadata": {
    "scrolled": true
   },
   "outputs": [],
   "source": [
    "#equation for the tension on the rope by using the moment\n",
    "T_force = []\n",
    "for i in range (len(theta)):\n",
    "    moment_weight_comp_y = Weight * math.sin(Phi) * Height * math.sin(theta[i]) * 0.55   # moment of the y component of the Weight\n",
    "    moment_weight_comp_x = Weight * math.cos(Phi) * Height * math.cos(theta[i]) * 0.55   # moment of the x component of the Weight\n",
    "    Tension = (moment_weight_comp_y + moment_weight_comp_x) / (0.8 * math.sin(theta[i]) * Height)  #calculating the tension for a single angle\n",
    "    T_force.append(Tension)          #combing all Tension Values in a list"
   ]
  },
  {
   "cell_type": "code",
   "execution_count": 4,
   "metadata": {},
   "outputs": [],
   "source": [
    "#calculationg the total forces\n",
    "F_parallel = []\n",
    "F_perpendicular = Weight * math.cos(Phi)\n",
    "F_friction = []\n",
    "for i in range (len(theta)):\n",
    "    F_parallel.append(abs(T_force[i] - Weight * math.sin(Phi)))     #creating a list of all the absolute value of the force \n",
    "    F_friction.append(Alpha * F_perpendicular)                      #creating a list of all the values of the force"
   ]
  },
  {
   "cell_type": "markdown",
   "metadata": {},
   "source": [
    "After having calculated all the forces we need to draw a graph to see where the horizontal (parallel) force intersects with the force of Friction.\n",
    "more or less than the Friction force and the person climbing will slip forward or backward respectively"
   ]
  },
  {
   "cell_type": "code",
   "execution_count": 6,
   "metadata": {
    "scrolled": true
   },
   "outputs": [
    {
     "data": {
      "image/png": "[encoded data removed]",
      "text/plain": [
       "<Figure size 432x288 with 1 Axes>"
      ]
     },
     "metadata": {
      "needs_background": "light"
     },
     "output_type": "display_data"
    }
   ],
   "source": [
    "# plotting the Forces vs Theta Graph\n",
    "from matplotlib import pyplot as plt\n",
    "plt.figure()\n",
    "plt.plot(range(1, 181), F_parallel, label = 'Parallel Force')                 # plotling force versus theta\n",
    "plt.plot(range(1, 181), F_friction, label = 'force of Friction')              # plotling force versus theta\n",
    "plt.xlabel('Theta (degree)')                                                  # labeling the x-axis\n",
    "plt.ylabel('Force (N)')                                                       # labeling the y-axis\n",
    "plt.ylim(-200, 2500)                                                          # limiting the y-axis for better comparision\n",
    "plt.legend()\n",
    "plt.show()"
   ]
  },
  {
   "cell_type": "code",
   "execution_count": 7,
   "metadata": {},
   "outputs": [
    {
     "name": "stdout",
     "output_type": "stream",
     "text": [
      "the Friction Force =  87.01930102414433\n",
      "Approximate best angles for maintaining stability are 45 degrees and 83 degrees\n"
     ]
    }
   ],
   "source": [
    "Y_interssect = F_friction[0]\n",
    "print('the Friction Force = ', Y_interssect)\n",
    "X1 = F_parallel.index(84.55028354031407)\n",
    "X2 = F_parallel.index(87.06682398757181)\n",
    "print(f'Approximate best angles for maintaining stability are {X1} degrees and {X2} degrees')"
   ]
  }
 ],
 "metadata": {
  "kernelspec": {
   "display_name": "Python 3",
   "language": "python",
   "name": "python3"
  },
  "language_info": {
   "codemirror_mode": {
    "name": "ipython",
    "version": 3
   },
   "file_extension": ".py",
   "mimetype": "text/x-python",
   "name": "python",
   "nbconvert_exporter": "python",
   "pygments_lexer": "ipython3",
   "version": "3.7.1"
  }
 },
 "nbformat": 4,
 "nbformat_minor": 2
}
